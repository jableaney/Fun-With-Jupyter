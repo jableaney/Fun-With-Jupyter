{
 "cells": [
  {
   "cell_type": "markdown",
   "id": "37920a1c-56b8-4cdd-8663-5eb5db66f3c0",
   "metadata": {},
   "source": [
    "# Data Science Tools and Ecosystem"
   ]
  },
  {
   "cell_type": "markdown",
   "id": "1eca5df3-0fb4-49a2-acde-e64fd53bf62a",
   "metadata": {},
   "source": [
    "## Author: \n",
    "Jeff Bleaney"
   ]
  },
  {
   "cell_type": "markdown",
   "id": "ace0596b-54b3-4ed4-9a6c-d18576467465",
   "metadata": {},
   "source": [
    "In this notebook, Data Science Tools and Ecosystem are summarized."
   ]
  },
  {
   "cell_type": "markdown",
   "id": "4f420d79-f205-4b67-8f21-3c5724221982",
   "metadata": {},
   "source": [
    "**Objectives:**\n",
    "\n",
    "- Introduce some common tools and languages used by data science\n",
    "- Introduce some basic coding\n",
    "- Show basic formating options available in a Jupyter notebook"
   ]
  },
  {
   "cell_type": "markdown",
   "id": "ece234db-bd1b-4476-8563-8fce47e2af10",
   "metadata": {},
   "source": [
    "Some of the popular languages that Data Scientists use are:\n",
    "\n",
    "1. Python\n",
    "2. R\n",
    "3. SQL"
   ]
  },
  {
   "cell_type": "markdown",
   "id": "fc52636d-aa0f-4619-b2bb-d109605fa6f8",
   "metadata": {},
   "source": [
    "Some of the commonly used libraries used by Data Scientists include:\n",
    "\n",
    "1. Pandas\n",
    "2. Numpy\n",
    "3. ggplot2"
   ]
  },
  {
   "cell_type": "markdown",
   "id": "5d200fb7-e6d1-4db6-9065-d3c42565dbda",
   "metadata": {},
   "source": [
    "| Data Science Tools |\n",
    "| --- |\n",
    "| R-Studio |\n",
    "| Apache Spark |\n",
    "| Tensor Flow |"
   ]
  },
  {
   "cell_type": "markdown",
   "id": "661c4734-7494-415d-9175-075a99b0313a",
   "metadata": {},
   "source": [
    "### Below are a few examples of evaluating arithmetic expressions in Python"
   ]
  },
  {
   "cell_type": "code",
   "execution_count": 3,
   "id": "55f0daf8-317f-4a22-ab7c-bc09913d1dbd",
   "metadata": {},
   "outputs": [
    {
     "data": {
      "text/plain": [
       "17"
      ]
     },
     "execution_count": 3,
     "metadata": {},
     "output_type": "execute_result"
    }
   ],
   "source": [
    "# This a simple arithmetic expression to mutiply then add integers\n",
    "\n",
    "(3*4)+5"
   ]
  },
  {
   "cell_type": "code",
   "execution_count": 5,
   "id": "9891d1e8-4b39-4aeb-9611-4e932a6aad82",
   "metadata": {},
   "outputs": [
    {
     "data": {
      "text/plain": [
       "3.3333333333333335"
      ]
     },
     "execution_count": 5,
     "metadata": {},
     "output_type": "execute_result"
    }
   ],
   "source": [
    "# This will convert 200 minutes to hours by diving by 60\n",
    "\n",
    "200/60"
   ]
  },
  {
   "cell_type": "code",
   "execution_count": null,
   "id": "78b94f58-66a2-49b4-807d-41840f974a9b",
   "metadata": {},
   "outputs": [],
   "source": []
  }
 ],
 "metadata": {
  "kernelspec": {
   "display_name": "Python",
   "language": "python",
   "name": "conda-env-python-py"
  },
  "language_info": {
   "codemirror_mode": {
    "name": "ipython",
    "version": 3
   },
   "file_extension": ".py",
   "mimetype": "text/x-python",
   "name": "python",
   "nbconvert_exporter": "python",
   "pygments_lexer": "ipython3",
   "version": "3.7.12"
  }
 },
 "nbformat": 4,
 "nbformat_minor": 5
}
